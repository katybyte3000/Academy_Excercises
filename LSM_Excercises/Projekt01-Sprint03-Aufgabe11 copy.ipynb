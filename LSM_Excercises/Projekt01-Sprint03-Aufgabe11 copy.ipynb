{
 "cells": [
  {
   "cell_type": "markdown",
   "metadata": {},
   "source": [
    "## Aufgabe 11"
   ]
  },
  {
   "cell_type": "markdown",
   "metadata": {},
   "source": [
    "In der Normalverteilung:\n",
    "μ (mu) ist der Mittelwert oder die Lage der Verteilung. Es ist der Wert, um den sich die Verteilung dreht.\n",
    "σ (sigma) ist die Standardabweichung und bestimmt die Breite der Verteilung:\n",
    "Ein größerer σ-Wert bedeutet, dass die Verteilung weiter oder breiter ist (größerer Spread).\n",
    "Ein kleinerer σ-Wert bedeutet, dass die Verteilung enger ist (kleinerer Spread)."
   ]
  },
  {
   "cell_type": "markdown",
   "metadata": {},
   "source": [
    "A) mu = 5, sigma = 1.5\n",
    "B) mu = 10, sigma = 1.0  -> kleinste\n",
    "C) mu = 5, sigma = 1.65 -größte\n",
    "D) mu = 8, sigma = 1.2\n",
    "E) mu = 10, sigma = 1.6"
   ]
  }
 ],
 "metadata": {
  "language_info": {
   "name": "python"
  }
 },
 "nbformat": 4,
 "nbformat_minor": 2
}
