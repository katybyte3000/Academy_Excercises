{
 "cells": [
  {
   "cell_type": "code",
   "execution_count": null,
   "metadata": {},
   "outputs": [],
   "source": [
    "Resorcen"
   ]
  },
  {
   "cell_type": "markdown",
   "metadata": {},
   "source": []
  },
  {
   "cell_type": "markdown",
   "metadata": {},
   "source": [
    "Restzucker:https://www.grapys.ch/blogs/wissenswertes/wie-erkennt-man-ob-wein-trocken-oder-lieblich-ist#:~:text=Die%20schnelle%20Antwort%20vorweg%3A,Gramm%20Restzucker%20pro%20Liter%20enth%C3%A4lt."
   ]
  },
  {
   "cell_type": "code",
   "execution_count": null,
   "metadata": {},
   "outputs": [],
   "source": []
  }
 ],
 "metadata": {
  "language_info": {
   "name": "python"
  }
 },
 "nbformat": 4,
 "nbformat_minor": 2
}
