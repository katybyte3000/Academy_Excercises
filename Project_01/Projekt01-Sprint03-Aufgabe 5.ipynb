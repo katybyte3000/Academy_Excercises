{
 "cells": [
  {
   "cell_type": "markdown",
   "metadata": {},
   "source": [
    "## numpy Arrays"
   ]
  },
  {
   "cell_type": "code",
   "execution_count": 27,
   "metadata": {},
   "outputs": [],
   "source": [
    "import numpy as np\n",
    "\n",
    "twoD_list =[[10, 10, 10, 10, 11, 11, 12, 13, 14 ],\n",
    "[15, 15, 15, 16, 16, 16, 16, 16, 17, 18, 19, 19],\n",
    "[20, 20, 20, 21, 21, 21, 21, 21, 22, 22, 22, 23, 23, 23, 24, 24, 24],\n",
    "[26, 26, 26, 26, 26, 26, 26, 27, 27, 27, 27, 29, 29, 29, 29, 29, 29, 29, 29, 29],\n",
    "[30, 30, 30, 30, 30, 31, 31, 32, 32, 33, 33, 34, 34],\n",
    "[35, 35, 35, 37, 37, 37, 37, 39, 39, 39],\n",
    "[40, 40, 43, 43, 44, 44],\n",
    "[46, 46, 46, 47, 49],\n",
    "[52, 53, 54]]\n",
    "\n",
    "\n"
   ]
  },
  {
   "cell_type": "code",
   "execution_count": 2,
   "metadata": {},
   "outputs": [
    {
     "name": "stdout",
     "output_type": "stream",
     "text": [
      "Zusammengeführte Liste: [10, 10, 10, 10, 11, 11, 12, 13, 14, 15, 15, 15, 16, 16, 16, 16, 16, 17, 18, 19, 19, 20, 20, 20, 21, 21, 21, 21, 21, 22, 22, 22, 23, 23, 23, 24, 24, 24, 26, 26, 26, 26, 26, 26, 26, 27, 27, 27, 27, 29, 29, 29, 29, 29, 29, 29, 29, 29, 30, 30, 30, 30, 30, 31, 31, 32, 32, 33, 33, 34, 34, 35, 35, 35, 37, 37, 37, 37, 39, 39, 39, 40, 40, 43, 43, 44, 44, 46, 46, 46, 47, 49, 52, 53, 54]\n",
      "NumPy-Array: [10 10 10 10 11 11 12 13 14 15 15 15 16 16 16 16 16 17 18 19 19 20 20 20\n",
      " 21 21 21 21 21 22 22 22 23 23 23 24 24 24 26 26 26 26 26 26 26 27 27 27\n",
      " 27 29 29 29 29 29 29 29 29 29 30 30 30 30 30 31 31 32 32 33 33 34 34 35\n",
      " 35 35 37 37 37 37 39 39 39 40 40 43 43 44 44 46 46 46 47 49 52 53 54]\n",
      "47.5\n",
      "The Median is 27\n"
     ]
    }
   ],
   "source": [
    "import numpy as np\n",
    "\n",
    "# Deine Liste von Listen\n",
    "\n",
    "l1 = [10, 10, 10, 10, 11, 11, 12, 13, 14]\n",
    "l2 = [15, 15, 15, 16, 16, 16, 16, 16, 17, 18, 19, 19]\n",
    "l3 = [20, 20, 20, 21, 21, 21, 21, 21, 22, 22, 22, 23, 23, 23, 24, 24, 24]\n",
    "l4 = [26, 26, 26, 26, 26, 26, 26, 27, 27, 27, 27, 29, 29, 29, 29, 29, 29, 29, 29, 29] \n",
    "l5 = [30, 30, 30, 30, 30, 31, 31, 32, 32, 33, 33, 34, 34]\n",
    "l6=  [35, 35, 35, 37, 37, 37, 37, 39, 39, 39]\n",
    "l7 = [40, 40, 43, 43, 44, 44]\n",
    "l8 = [46, 46, 46, 47, 49]\n",
    "l9 = [52, 53, 54]\n",
    "\n",
    "\n",
    "newlist = l1+l2+l3+l4+l5+l6+l7+l8+l9\n",
    "print(\"Zusammengeführte Liste:\", newlist)\n",
    "\n",
    "# Umwandlung der Liste in ein NumPy-Array\n",
    "newarray = np.array(newlist)\n",
    "\n",
    "# Ausgabe des NumPy-Arrays\n",
    "print(\"NumPy-Array:\", newarray)\n",
    "\n",
    "langearray = len(newarray)/2\n",
    "print(langearray)\n",
    "\n",
    "median = newarray[47]\n",
    "print(\"The Median is\", median)\n"
   ]
  }
 ],
 "metadata": {
  "kernelspec": {
   "display_name": "base",
   "language": "python",
   "name": "python3"
  },
  "language_info": {
   "codemirror_mode": {
    "name": "ipython",
    "version": 3
   },
   "file_extension": ".py",
   "mimetype": "text/x-python",
   "name": "python",
   "nbconvert_exporter": "python",
   "pygments_lexer": "ipython3",
   "version": "3.12.7"
  }
 },
 "nbformat": 4,
 "nbformat_minor": 2
}
