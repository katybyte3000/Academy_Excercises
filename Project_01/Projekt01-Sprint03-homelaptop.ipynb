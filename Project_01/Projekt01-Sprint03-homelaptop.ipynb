{
 "cells": [
  {
   "cell_type": "markdown",
   "metadata": {},
   "source": [
    "## Numpy & Statistic"
   ]
  },
  {
   "cell_type": "markdown",
   "metadata": {},
   "source": [
    "### **Descriptive statistics** helps to analyze data by describing or summarizing data in a meaningful way. It might look for patterns which can help to reach a conclusion about the data, however, it does not draw any conclusion beyond the data or about any hypotheses.\n",
    ">Deskriptive Statistiken helfen bei der Datenanalyse, indem sie Daten auf sinnvolle Weise beschreiben oder zusammenfassen. Sie suchen möglicherweise nach Mustern, die dabei helfen können, eine Schlussfolgerung über die Daten zu ziehen, ziehen jedoch keine Schlussfolgerungen über die Daten oder Hypothesen hinaus."
   ]
  },
  {
   "cell_type": "markdown",
   "metadata": {},
   "source": [
    "### **Inferential statistics** which provides techniques that can draw a small sample from a large population to make generalizations about that population and also perform hypothesis testing to determine relationships between two datasets"
   ]
  },
  {
   "cell_type": "markdown",
   "metadata": {},
   "source": [
    "> Inferenzstatistiken bieten Techniken, mit denen aus einer großen Population eine kleine Stichprobe gezogen werden kann, um Verallgemeinerungen Dabei wird die Richtigkeit einer Schlussfolgerung anhand eines berechneten Risikomaßes abgeleitet. Dies wird als Inferenzstatistik bezeichnet."
   ]
  },
  {
   "cell_type": "markdown",
   "metadata": {},
   "source": [
    "### **Mean** (Average) is the average. Calculate the mean by taking the sum of all data points (add all the values together!) and divide by the number of points. For example, in our electronics store, what is the average price of a Samsung laptop?\n",
    "\n",
    "(389 + 400 + 500 + 780 + 800 + 1000 + 1100 + 1200 + 1230) / 9 = 822.11\n",
    "> Der Mittelwert ist der Durchschnitt. \n"
   ]
  },
  {
   "cell_type": "markdown",
   "metadata": {},
   "source": [
    "### **Median** is the exact middle point when all data points have been arranged in order. If there are two middle points (in the case of an even number of data points), take the mean of those two numbers."
   ]
  },
  {
   "cell_type": "markdown",
   "metadata": {},
   "source": [
    ">Der Median ist der exakte Mittelpunkt, wenn alle Datenpunkte in der richtigen Reihenfolge angeordnet wurden. Wenn es zwei Mittelpunkte gibt (bei einer geraden Anzahl von Datenpunkten), nehmen Sie den Mittelwert dieser beiden Zahlen. Wie hoch ist beispielsweise der Preis des Laptop-Modells, das Samsung-Laptops in zwei gleich große Gruppen unterteilt: High-End-Modelle und Low-End-Modelle?\n",
    "\n",
    "389 | 400 | 500 | 780 | 800 | 1000 | 1100 | 1200 | 1230"
   ]
  },
  {
   "cell_type": "markdown",
   "metadata": {},
   "source": [
    "### The **mode** is the most common number that appears in your set of data. To find the mode count how often each number appears and the number that appears the most times is the mode."
   ]
  },
  {
   "cell_type": "markdown",
   "metadata": {},
   "source": [
    "\n",
    "> Der Modus ist der Wert, der im Datensatz am häufigsten vorkommt. Welches Laptop-Modell wurde beispielsweise dieses Jahr am häufigsten verkauft?"
   ]
  },
  {
   "cell_type": "markdown",
   "metadata": {},
   "source": [
    "## Maße der Variation (Spanne, Varianz, Standardabweichung)\n",
    "\n",
    "Der Bereich misst den Unterschied zwischen den niedrigsten und höchsten Datenpunktwerten. Wie groß ist beispielsweise die Preisspanne für Samsung-Laptops im Geschäft?\n",
    "\n",
    "1230 - 389 = 841\n",
    "Die Parameter Varianz und Standardabweichung zeigen die „Streuung“ der Daten, indem sie die Differenz zwischen dem beobachteten Ergebnis und dem Mittelwert messen.\n",
    "\n",
    "Die **Varianz** wird berechnet, indem der Mittelwert von jedem Datenpunkt abgezogen, dieser Wert quadriert und dann die Summe aller dieser Werte durch die Anzahl der Datenpunkte dividiert wird. Wichtiger Hinweis : Wenn Sie mit einer Stichprobe und nicht mit einer Gesamtpopulation arbeiten , dividieren Sie durch die Anzahl der Stichproben minus eins (wenn Sie möchten, lesen Sie hier einen Artikel zu diesem Konzept )."
   ]
  },
  {
   "cell_type": "markdown",
   "metadata": {},
   "source": [
    "((389 - 822)² + (400 - 822)² + (500 - 822)² + (780 - 822)² + (800 - 822)² + (1000 - 822)² + (1100 - 822)² + (1200 - 822)² + (1230 - 822)²) / (9-1) ≈ 111227"
   ]
  },
  {
   "cell_type": "markdown",
   "metadata": {},
   "source": [
    "Die Standardabweichung ist dann die Quadratwurzel der Varianz, wodurch der Wert wieder in die ursprünglichen Einheiten umgerechnet wird.\n",
    "\n",
    "√111227 ≈ 333"
   ]
  },
  {
   "cell_type": "markdown",
   "metadata": {},
   "source": [
    "## ERLÄUTERUNG DER BEGRIFFE: https://datatab.de/tutorial/standardabweichung-varianz-spannweite"
   ]
  },
  {
   "cell_type": "markdown",
   "metadata": {},
   "source": [
    "Inferenzstatistik\n",
    "Inferenzstatistiken entnehmen einer Population zufällige Datenstichproben und suchen nach Mustern und Erkenntnissen, um diese Population zu beschreiben und daraus Rückschlüsse zu ziehen. Um die Konzepte der Inferenzstatistiken zu verstehen, müssen Sie mit den folgenden Begriffen vertraut sein:\n",
    "\n",
    "## **Konfidenzintervall**\n",
    "\n",
    "Ein Konfidenzintervall ist ein Wertebereich, in dem wir ziemlich sicher sind, dass unser Wert liegt. Das Konfidenzniveau ist eine prozentuale Schätzung dafür, wie oft wir erwarten, dass unser Stichprobenwert innerhalb des Konfidenzintervalls liegt.\n",
    "\n",
    "Statistiker und andere Analytiker verwenden Konfidenzintervalle, um die statistische Bedeutung ihrer Schätzungen, Schlussfolgerungen oder Vorhersagen zu verstehen. Normalerweise verwenden wir ein Konfidenzniveau von 95 % oder 99 %: Wir berechnen das Intervall, innerhalb dessen wir bei wiederholter Stichprobennahme derselben Population den Wert in 95 % oder 99 % der Fälle finden würden.\n",
    "\n",
    "Das Konfidenzniveau wird als Prozentsatz ausgedrückt, während das Konfidenzintervall ein Wertebereich ist."
   ]
  },
  {
   "cell_type": "markdown",
   "metadata": {},
   "source": [
    "https://www.mathsisfun.com/data/confidence-interval-calculator.html"
   ]
  },
  {
   "cell_type": "markdown",
   "metadata": {},
   "source": [
    "## Übung 1\n",
    "\n",
    "Der Datensatz enthält 5 Zahlen: (8, 12, 16, 24, 4).\n",
    "\n",
    "Was ist das Mittel ? \n",
    "Wie hoch ist die Summe der Abweichungen der einzelnen Datenpunkte von ihrem Mittelwert ? \n",
    "Was ist die Standardabweichung ? "
   ]
  },
  {
   "cell_type": "code",
   "execution_count": 66,
   "metadata": {},
   "outputs": [
    {
     "name": "stdout",
     "output_type": "stream",
     "text": [
      "[8, 12, 16, 24, 4]\n",
      "Mittelwert lautet: 12.8\n",
      "59.2\n"
     ]
    }
   ],
   "source": [
    "dataset1 = [8, 12, 16, 24, 4]\n",
    "print(dataset1)\n",
    "\n",
    "mittlewert1 = sum(dataset1)/len(dataset1)   #Die Summer der Zahlen durch die Anzahl der Werte in der Liste\n",
    "print(\"Mittelwert lautet:\", mittlewert1)\n",
    "\n",
    "#for eachnumber in dataset1:             #standartabwweichung?\n",
    "    #print (\"Die Abweichung der Zahl zum Mittelwert\", eachnumber, \"beträgt\", eachnumber-mittlewert1)\n",
    "\n",
    "variance1 = sum((eachnumber-mittlewert1)**2 for eachnumber in dataset1) / (len(dataset1)-1)  #Varianz\n",
    "print(variance1)"
   ]
  },
  {
   "cell_type": "code",
   "execution_count": 67,
   "metadata": {},
   "outputs": [
    {
     "name": "stdout",
     "output_type": "stream",
     "text": [
      "4.972\n"
     ]
    }
   ],
   "source": [
    "data = [34.4, 36.4, 37.5, 35.5, 31.3, 36.7]\n",
    "mean = sum(data) / len(data)\n",
    "variance2 = sum((x - mean) ** 2 for x in data) / (len(data) - 1)\n",
    "print(variance2) # 4.14333.."
   ]
  },
  {
   "cell_type": "markdown",
   "metadata": {},
   "source": [
    "## Aufgabe 1 -Alle Lösungen kompakt"
   ]
  },
  {
   "cell_type": "code",
   "execution_count": 68,
   "metadata": {},
   "outputs": [
    {
     "name": "stdout",
     "output_type": "stream",
     "text": [
      "59.2\n",
      "Die Standardabweichung der Zahlen beträgt 7.694153624668538\n"
     ]
    }
   ],
   "source": [
    "data = [8, 12, 16, 24, 4]\n",
    "mean = sum(data) / len(data)\n",
    "variance2 = sum((x - mean) ** 2 for x in data) / (len(data) - 1)\n",
    "print(variance2) # 4.14333..\n",
    "standard1 = variance2**0.5  #Die Standardabweichung ist dann die Quadratwurzel der Varianz\n",
    "print( \"Die Standardabweichung der Zahlen beträgt\", standard1)\n",
    "\n",
    "# Gute Erklärung der beiden Werte; https://datatab.de/tutorial/standardabweichung-varianz-spannweite"
   ]
  },
  {
   "cell_type": "code",
   "execution_count": 69,
   "metadata": {},
   "outputs": [],
   "source": [
    "#nochmal  mit numpy\n",
    "\n",
    "# Standardard 6,8 hat Julien, welche Standardabweichung ist die Richtige?"
   ]
  },
  {
   "cell_type": "code",
   "execution_count": 91,
   "metadata": {},
   "outputs": [
    {
     "name": "stdout",
     "output_type": "stream",
     "text": [
      "Standard Deviation of sample is 7.694153624668538 \n"
     ]
    }
   ],
   "source": [
    "# Python code to demonstrate stdev() function\n",
    "\n",
    "# importing Statistics module\n",
    "import statistics\n",
    "\n",
    "# creating a simple data - set\n",
    "sample = [8, 12, 16, 24, 4]\n",
    "\n",
    "# Prints standard deviation\n",
    "# xbar is set to default value of 1\n",
    "print(\"Standard Deviation of sample is % s \"\n",
    "\t\t\t\t% (statistics.stdev(sample)))\n"
   ]
  },
  {
   "cell_type": "markdown",
   "metadata": {},
   "source": [
    "## Exercise 2\n",
    "\n",
    "If some outliers are introduced to the dataset from exercise 1, what will happen to the Standard Deviation? Will it increase, decrease or remain the same?"
   ]
  },
  {
   "cell_type": "markdown",
   "metadata": {},
   "source": [
    "First Idea: I woulds say if there would be more outliner the Standard Deviation would increase"
   ]
  },
  {
   "cell_type": "code",
   "execution_count": 92,
   "metadata": {},
   "outputs": [
    {
     "name": "stdout",
     "output_type": "stream",
     "text": [
      "951.2678571428571\n",
      "Die Standardabweichung der Zahlen beträgt 30.842630515941035\n"
     ]
    }
   ],
   "source": [
    "# teste mitOutliner\n",
    "# \n",
    "data = [5,8, 12, 16, 24, 4,90,58]\n",
    "mean = sum(data) / len(data)\n",
    "variance2 = sum((x - mean) ** 2 for x in data) / (len(data) - 1)\n",
    "print(variance2) # 4.14333..\n",
    "standard1 = variance2**0.5  #Die Standardabweichung ist dann die Quadratwurzel der Varianz\n",
    "print( \"Die Standardabweichung der Zahlen beträgt\", standard1)"
   ]
  },
  {
   "cell_type": "code",
   "execution_count": 93,
   "metadata": {},
   "outputs": [
    {
     "name": "stdout",
     "output_type": "stream",
     "text": [
      "3.0\n",
      "9\n"
     ]
    }
   ],
   "source": [
    "irgend=9\n",
    "print (irgend ** 0.5)\n",
    "\n",
    "print(irgend)"
   ]
  },
  {
   "cell_type": "markdown",
   "metadata": {},
   "source": []
  },
  {
   "cell_type": "markdown",
   "metadata": {},
   "source": [
    "## Quadratwurzeln mit Math"
   ]
  },
  {
   "cell_type": "code",
   "execution_count": 94,
   "metadata": {},
   "outputs": [
    {
     "name": "stdout",
     "output_type": "stream",
     "text": [
      "3.0\n",
      "5.0\n",
      "4.0\n",
      "10.535653752852738\n"
     ]
    }
   ],
   "source": [
    "# Import math Library # Quadratwurzeln ziehen\n",
    "import math\n",
    "\n",
    "# Quadratwurzel ziehen\n",
    "\n",
    "# Return the square root of different numbers\n",
    "print (math.sqrt(9))\n",
    "print (math.sqrt(25))\n",
    "print (math.sqrt(16))\n",
    "print (math.sqrt(111))"
   ]
  },
  {
   "cell_type": "markdown",
   "metadata": {},
   "source": [
    "\n",
    "## Übung 3 (kein Numpy)\n",
    "\n",
    "Angenommen, die folgende positiv schiefe Verteilung hat einen Median von 30. Welche der folgenden Aussagen ist wahr?\n",
    "\n",
    "\n",
    "\n",
    "A) Der Mittelwert ist größer als 30. > True\n",
    "B) Der Mittelwert ist kleiner als 30. >False\n",
    "C) Der Modus ist größer als 30.< False>\n",
    "D) Der Modus ist kleiner als 30. > True\n",
    "E) Sowohl A als auch D. > True\n",
    "F) Sowohl B als auch C. > Beide sind False (also True?)\n",
    "\n"
   ]
  },
  {
   "cell_type": "markdown",
   "metadata": {},
   "source": []
  },
  {
   "cell_type": "markdown",
   "metadata": {},
   "source": [
    "## Übung 4 - Komilitonen fragen\n",
    "\n",
    "Was könnte ein möglicher Medianwert für die folgende Datenverteilung sein?"
   ]
  },
  {
   "cell_type": "markdown",
   "metadata": {},
   "source": [
    "Median could be \"13\"\n",
    "But when i start at 0 its \"20\"\n",
    "\n",
    "Frage wo starte man den Medianwert zu berechen?"
   ]
  },
  {
   "cell_type": "markdown",
   "metadata": {},
   "source": [
    "Gehen Sie davon aus, dass die Daten wie folgt verteilt sind, und berechnen Sie den Median mithilfe des Codes:"
   ]
  },
  {
   "cell_type": "code",
   "execution_count": null,
   "metadata": {},
   "outputs": [
    {
     "name": "stdout",
     "output_type": "stream",
     "text": [
      "11.222222222222221\n",
      "Median von der Grafik: 31.53846153846154\n"
     ]
    }
   ],
   "source": [
    "m1 =[10, 10, 10, 10, 11, 11, 12, 13, 14 ]\n",
    "m2 =[15, 15, 15, 16, 16, 16, 16, 16, 17, 18, 19, 19]\n",
    "m3 =[20, 20, 20, 21, 21, 21, 21, 21, 22, 22, 22, 23, 23, 23, 24, 24, 24]\n",
    "m4 =[26, 26, 26, 26, 26, 26, 26, 27, 27, 27, 27, 29, 29, 29, 29, 29, 29, 29, 29, 29]\n",
    "m5 =[30, 30, 30, 30, 30, 31, 31, 32, 32, 33, 33, 34, 34]\n",
    "m6 =[35, 35, 35, 37, 37, 37, 37, 39, 39, 39]\n",
    "m7 =[40, 40, 43, 43, 44, 44]\n",
    "m8 =[46, 46, 46, 47, 49]\n",
    "m9 =[52, 53, 54]\n",
    "\n",
    "print(sum(m1)/len(m1))\n",
    "\n",
    "print(\"Median von der Grafik:\",sum(m5)/len(m5))"
   ]
  },
  {
   "cell_type": "code",
   "execution_count": null,
   "metadata": {},
   "outputs": [],
   "source": [
    "import numpy as np\n",
    "\n",
    "m1 =np.array([10, 10, 10, 10, 11, 11, 12, 13, 14 ])\n",
    "m2 =np.array([15, 15, 15, 16, 16, 16, 16, 16, 17, 18, 19, 19])\n",
    "m3 =np.array([20, 20, 20, 21, 21, 21, 21, 21, 22, 22, 22, 23, 23, 23, 24, 24, 24])\n",
    "m4 =np.array([26, 26, 26, 26, 26, 26, 26, 27, 27, 27, 27, 29, 29, 29, 29, 29, 29, 29, 29, 29])\n",
    "m5 =np.array([30, 30, 30, 30, 30, 31, 31, 32, 32, 33, 33, 34, 34])\n",
    "m6 =np.array([35, 35, 35, 37, 37, 37, 37, 39, 39, 39])\n",
    "m7 =np.array([40, 40, 43, 43, 44, 44])\n",
    "m8 =np.array([46, 46, 46, 47, 49])\n",
    "m9 =np.array([52, 53, 54])\n",
    "\n",
    "print(sum(m1)/len(m1))\n",
    "\n",
    "print(\"Median von der Grafik:\",sum(m5)/len(m5))"
   ]
  },
  {
   "cell_type": "markdown",
   "metadata": {},
   "source": []
  },
  {
   "cell_type": "code",
   "execution_count": null,
   "metadata": {},
   "outputs": [
    {
     "name": "stdout",
     "output_type": "stream",
     "text": [
      "[[10, 10, 10, 10, 11, 11, 12, 13, 14], [15, 15, 15, 16, 16, 16, 16, 16, 17, 18, 19, 19], [20, 20, 20, 21, 21, 21, 21, 21, 22, 22, 22, 23, 23, 23, 24, 24, 24], [26, 26, 26, 26, 26, 26, 26, 27, 27, 27, 27, 29, 29, 29, 29, 29, 29, 29, 29, 29], [30, 30, 30, 30, 30, 31, 31, 32, 32, 33, 33, 34, 34], [35, 35, 35, 37, 37, 37, 37, 39, 39, 39], [40, 40, 43, 43, 44, 44], [46, 46, 46, 47, 49], [52, 53, 54]]\n"
     ]
    }
   ],
   "source": [
    "bigarray = [[10, 10, 10, 10, 11, 11, 12, 13, 14 ],\n",
    "[15, 15, 15, 16, 16, 16, 16, 16, 17, 18, 19, 19],\n",
    "[20, 20, 20, 21, 21, 21, 21, 21, 22, 22, 22, 23, 23, 23, 24, 24, 24],\n",
    "[26, 26, 26, 26, 26, 26, 26, 27, 27, 27, 27, 29, 29, 29, 29, 29, 29, 29, 29, 29],\n",
    "[30, 30, 30, 30, 30, 31, 31, 32, 32, 33, 33, 34, 34],\n",
    "[35, 35, 35, 37, 37, 37, 37, 39, 39, 39],\n",
    "[40, 40, 43, 43, 44, 44],\n",
    "[46, 46, 46, 47, 49],\n",
    "[52, 53, 54]]\n",
    "print(bigarray)\n",
    "\n",
    "newbigarray = "
   ]
  },
  {
   "cell_type": "code",
   "execution_count": 123,
   "metadata": {},
   "outputs": [
    {
     "name": "stdout",
     "output_type": "stream",
     "text": [
      "[ 1  2  3  4 10 20 30 40]\n"
     ]
    }
   ],
   "source": [
    "import numpy as np\n",
    "arr1 = np.array([[1, 2], [3, 4]])\n",
    "arr2 = np.array([[10, 20], [30, 40]])\n",
    "# Arrays werden abgeflacht und zusammengeführt\n",
    "arr_flat = np.append(arr1, arr2)\n",
    "print(arr_flat)"
   ]
  },
  {
   "cell_type": "markdown",
   "metadata": {},
   "source": [
    "## Übung 5"
   ]
  },
  {
   "cell_type": "markdown",
   "metadata": {},
   "source": [
    "## Positively skewed distribution"
   ]
  },
  {
   "cell_type": "markdown",
   "metadata": {},
   "source": [
    "Eine Verteilung wird als positiv schief bezeichnet, wenn der rechte Rand des Histogramms länger ist als der linke. Die meisten Werte tendieren dazu, sich auf der linken Seite der X-Achse zu konzentrieren (also die kleineren Werte), während auf der rechten Seite der X-Achse (also die größeren Werte) zunehmend weniger Werte zu finden sind. "
   ]
  },
  {
   "cell_type": "markdown",
   "metadata": {},
   "source": [
    "## Links"
   ]
  },
  {
   "cell_type": "markdown",
   "metadata": {},
   "source": [
    "https://statistikgrundlagen.de/ebook/chapter/grafiken-und-diagramme/\n",
    "https://www.abs.gov.au/statistics/understanding-statistics/statistical-terms-and-concepts/measures-shape#:~:text=When%20a%20histogram%20is%20constructed,example%20of%20a%20normal%20distribution."
   ]
  },
  {
   "cell_type": "markdown",
   "metadata": {},
   "source": [
    "## Übung 6"
   ]
  },
  {
   "cell_type": "markdown",
   "metadata": {},
   "source": [
    "Was ist die geeignete Mitte für die Grafik aus Übung 5\n",
    "Ist die Frage hier welches Mittel oder welche Berechnung eingesetzt werden sollen???"
   ]
  },
  {
   "cell_type": "markdown",
   "metadata": {},
   "source": [
    "Die Wahl des „passendsten Maßes“ hängt also von der Verteilung und den Eigenschaften der Daten ab:\n",
    "\n",
    "Bei symmetrischen Verteilungen ist der Mittelwert oft sinnvoll.\n",
    "Bei schiefen Verteilungen oder wenn Ausreißer vorhanden sind, ist der Median möglicherweise geeigneter."
   ]
  },
  {
   "cell_type": "markdown",
   "metadata": {},
   "source": [
    "## Übung 7\n",
    "\n",
    "Aus denselben Daten: Wenn die Y-Achse die Anzahl der Personen darstellt und die X-Achse das Gehalt der Person in Tausend, wie viele Personen haben ein Gehalt von weniger als 10.000? (kein Numpy)"
   ]
  },
  {
   "cell_type": "markdown",
   "metadata": {},
   "source": [
    "Mit Augenmaß: Es sind 11 +24 Leute also 35"
   ]
  },
  {
   "cell_type": "markdown",
   "metadata": {},
   "source": [
    "Wir haben eine Menge positiver Zahlen. Wenn ein einzelner Wert dieser Menge geändert wird, was muss sich ändern?\n",
    "\n",
    "A) Mittelwert\n",
    "B) Median\n",
    "C) Modus\n",
    "D) Alle diese"
   ]
  },
  {
   "cell_type": "markdown",
   "metadata": {},
   "source": [
    "### Antwort\n",
    "es kommt drauf an wie die Zahl ist"
   ]
  },
  {
   "cell_type": "markdown",
   "metadata": {},
   "source": [
    "Es ändern sich Mittlewert und Median auf jedenfall"
   ]
  },
  {
   "cell_type": "markdown",
   "metadata": {},
   "source": [
    "Mode nur eventuell"
   ]
  },
  {
   "cell_type": "code",
   "execution_count": 124,
   "metadata": {},
   "outputs": [
    {
     "name": "stdout",
     "output_type": "stream",
     "text": [
      "Mittelwert 12.8\n",
      "[4, 8, 12, 16, 24]\n",
      "Varianz 59.2\n",
      "Die Standardabweichung der Zahlen beträgt 7.694153624668538\n"
     ]
    }
   ],
   "source": [
    "data = [8, 12, 16, 24, 4]\n",
    "mean = sum(data) / len(data)\n",
    "print(\"Mittelwert\",mean)\n",
    "data.sort()\n",
    "print(data)\n",
    "# mittelwert ermitteln also die anzahl der elemente durch 2 und dann diese Position\n",
    "\n",
    "variance2 = sum((x - mean) ** 2 for x in data) / (len(data) - 1)\n",
    "print(\"Varianz\",variance2) # 4.14333..\n",
    "standard1 = variance2**0.5  #Die Standardabweichung ist dann die Quadratwurzel der Varianz\n",
    "print( \"Die Standardabweichung der Zahlen beträgt\", standard1)"
   ]
  },
  {
   "cell_type": "code",
   "execution_count": 125,
   "metadata": {},
   "outputs": [
    {
     "name": "stdout",
     "output_type": "stream",
     "text": [
      "4.4\n"
     ]
    }
   ],
   "source": [
    "setOfNumbers = set([1,5,2,6,8])\n",
    "randomVar = len(setOfNumbers) # randomVar ist hier ein schlechter Name\n",
    "sumSet = sum(setOfNumbers)\n",
    "mean = sumSet / randomVar\n",
    "\n",
    "print(mean)\n",
    "\n",
    "\n"
   ]
  },
  {
   "cell_type": "markdown",
   "metadata": {},
   "source": [
    "## Berechnung von Mean, Median und Mode"
   ]
  },
  {
   "cell_type": "code",
   "execution_count": 126,
   "metadata": {},
   "outputs": [
    {
     "name": "stdout",
     "output_type": "stream",
     "text": [
      "arr :  [ 1  2  3  6  8  9 12 54  1]\n",
      "mean of arr :  10.666666666666666\n",
      "median of array is 6.0\n"
     ]
    }
   ],
   "source": [
    "import numpy as np\n",
    "\n",
    "arr = np.array([1, 2, 3, 6, 8,9,12,54,1])\n",
    "\n",
    "# Mean berechen:\n",
    "print(\"arr : \", arr)  \n",
    "print(\"mean of arr : \", np.mean(arr)) \n",
    "\n",
    "# Median berechen:\n",
    "median_arr = np.median(arr)\n",
    "print(\"median of array is\", median_arr)\n",
    "\n",
    "\n",
    "\n",
    "\n"
   ]
  },
  {
   "cell_type": "code",
   "execution_count": 127,
   "metadata": {},
   "outputs": [
    {
     "name": "stdout",
     "output_type": "stream",
     "text": [
      "Arithmetic mode is : \n",
      " ModeResult(mode=array([1, 3, 8, 4, 7, 9], dtype=int64), count=array([1, 1, 1, 1, 1, 1], dtype=int64))\n"
     ]
    }
   ],
   "source": [
    "# Arithmetic mode \n",
    "from scipy import stats \n",
    "import numpy as np \n",
    "\n",
    "arr1 = np.array([[1, 3, 27, 13, 21, 9], \n",
    "\t\t\t\t[8, 12, 8, 4, 7, 10]]) \n",
    "\n",
    "\n",
    "print(\"Arithmetic mode is : \\n\", stats.mode(arr1)) \n"
   ]
  },
  {
   "cell_type": "code",
   "execution_count": 128,
   "metadata": {},
   "outputs": [
    {
     "name": "stdout",
     "output_type": "stream",
     "text": [
      "Arithmetic mode is : \n",
      " ModeResult(mode=6, count=3)\n"
     ]
    }
   ],
   "source": [
    "# Arithmetic mode \n",
    "from scipy import stats \n",
    "import numpy as np \n",
    "\n",
    "arr3 = np.array([1, 2, 3, 6, 8,9,12,54,1,6,9,5,13,6])\n",
    "\n",
    "\n",
    "print(\"Arithmetic mode is : \\n\", stats.mode(arr3)) "
   ]
  },
  {
   "cell_type": "markdown",
   "metadata": {},
   "source": [
    "analoge Berechung der Standartabweichung:https://www.scribbr.de/statistik/standardabweichung/"
   ]
  },
  {
   "cell_type": "markdown",
   "metadata": {},
   "source": [
    "Übung 9\n",
    "\n",
    "Das folgende Diagramm zeigt die Stundensätze für Beratungsleistungen von 10 Mitarbeitern. Berechnen Sie die Standardabweichung der Sätze für die 10 Mitarbeiter.\n",
    "\n",
    "> Manuelle Berechnung ergibt einen Varianz von 79,77 und eine Standardabweichung von 8,93"
   ]
  },
  {
   "cell_type": "code",
   "execution_count": 129,
   "metadata": {},
   "outputs": [
    {
     "name": "stdout",
     "output_type": "stream",
     "text": [
      "108.33333333333333\n",
      "Die Standardabweichung der Zahlen beträgt 10.408329997330663\n"
     ]
    }
   ],
   "source": [
    "# Ubung 9\n",
    "# \n",
    "data_e = [25,35,40,50]\n",
    "mean_e = sum(data_e) / len(data_e)\n",
    "variance_e = sum((u - mean_e) ** 2 for u in data_e) / (len(data_e) - 1)\n",
    "print(variance_e) # 4.14333..\n",
    "standard_e = variance_e**0.5  #Die Standardabweichung ist dann die Quadratwurzel der Varianz\n",
    "print( \"Die Standardabweichung der Zahlen beträgt\", standard_e)\n",
    "\n",
    "#in Numpy machen\n",
    "\n",
    "# Julien hat Standardabweichung 18,6"
   ]
  },
  {
   "cell_type": "markdown",
   "metadata": {},
   "source": [
    "## Exercise 10 (no Numpy)\n",
    "\n",
    "Which of the following random variables is discrete?\n",
    "\n",
    "A) the length of time a battery lasts >hmmm naja\n",
    "B) the number of pens purchased by a student in a year > True\n",
    "C) the percentage of cows in a cattle firm that have been vaccinated > True\n",
    "D) the distance between a pair of towns  > True"
   ]
  },
  {
   "cell_type": "markdown",
   "metadata": {},
   "source": [
    "## Übung 11 (kein Numpy)\n",
    "\n",
    "Welche der folgenden Normalverteilungen weist die größte Streuung auf?\n",
    "\n",
    "A) mu = 5, Sigma = 1,5\n",
    "B) mu = 10, Sigma = 1,0\n",
    "C) mu = 5, Sigma = 1,65\n",
    "D) mu = 8, Sigma = 1,2\n",
    "E) mu = 10, Sigma = 1,6"
   ]
  },
  {
   "cell_type": "markdown",
   "metadata": {},
   "source": [
    "Was ist Mu und Sigma?\n",
    "der Erwartungswert (μ), dies ist auch der Mittelwert. die Standardabweichung um den Mittelwert (σ)18 \n",
    "\n",
    "Die Standardabweichung \n",
    "σ (Sigma) einer Zufallsgröße ist in der Stochastik ein Maß dafür, wie stark im Mittel die Zufallsgröße um ihrem Erwartungswert streut. Sie ist eng mit der Varianz verknüpft.\n",
    "\n",
    "mu = Mean"
   ]
  },
  {
   "cell_type": "markdown",
   "metadata": {},
   "source": [
    "Sigma"
   ]
  }
 ],
 "metadata": {
  "kernelspec": {
   "display_name": "base",
   "language": "python",
   "name": "python3"
  },
  "language_info": {
   "codemirror_mode": {
    "name": "ipython",
    "version": 3
   },
   "file_extension": ".py",
   "mimetype": "text/x-python",
   "name": "python",
   "nbconvert_exporter": "python",
   "pygments_lexer": "ipython3",
   "version": "3.12.7"
  }
 },
 "nbformat": 4,
 "nbformat_minor": 2
}
