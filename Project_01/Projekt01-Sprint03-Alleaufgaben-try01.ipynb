{
  "cells": [
    {
      "cell_type": "markdown",
      "metadata": {
        "id": "IJugOoZbvxeo"
      },
      "source": [
        "## Numpy & Statistic"
      ]
    },
    {
      "cell_type": "markdown",
      "metadata": {
        "id": "lmUqoHnmvxev"
      },
      "source": [
        "### **Descriptive statistics** helps to analyze data by describing or summarizing data in a meaningful way. It might look for patterns which can help to reach a conclusion about the data, however, it does not draw any conclusion beyond the data or about any hypotheses.\n",
        ">Deskriptive Statistiken helfen bei der Datenanalyse, indem sie Daten auf sinnvolle Weise beschreiben oder zusammenfassen. Sie suchen möglicherweise nach Mustern, die dabei helfen können, eine Schlussfolgerung über die Daten zu ziehen, ziehen jedoch keine Schlussfolgerungen über die Daten oder Hypothesen hinaus."
      ]
    },
    {
      "cell_type": "markdown",
      "metadata": {
        "id": "7dxCLO5Dvxex"
      },
      "source": [
        "### **Inferential statistics** which provides techniques that can draw a small sample from a large population to make generalizations about that population and also perform hypothesis testing to determine relationships between two datasets"
      ]
    },
    {
      "cell_type": "markdown",
      "metadata": {
        "id": "MZl3raYivxey"
      },
      "source": [
        "> Inferenzstatistiken bieten Techniken, mit denen aus einer großen Population eine kleine Stichprobe gezogen werden kann, um Verallgemeinerungen Dabei wird die Richtigkeit einer Schlussfolgerung anhand eines berechneten Risikomaßes abgeleitet. Dies wird als Inferenzstatistik bezeichnet."
      ]
    },
    {
      "cell_type": "markdown",
      "metadata": {
        "id": "-F-4G7sOvxey"
      },
      "source": [
        "### **Mean** (Average) is the average. Calculate the mean by taking the sum of all data points (add all the values together!) and divide by the number of points. For example, in our electronics store, what is the average price of a Samsung laptop?\n",
        "\n",
        "(389 + 400 + 500 + 780 + 800 + 1000 + 1100 + 1200 + 1230) / 9 = 822.11\n",
        "> Der Mittelwert ist der Durchschnitt.\n"
      ]
    },
    {
      "cell_type": "markdown",
      "metadata": {
        "id": "mvAYnA0-vxez"
      },
      "source": [
        "### **Median** is the exact middle point when all data points have been arranged in order. If there are two middle points (in the case of an even number of data points), take the mean of those two numbers."
      ]
    },
    {
      "cell_type": "markdown",
      "metadata": {
        "id": "4uw632wpvxez"
      },
      "source": [
        ">Der Median ist der exakte Mittelpunkt, wenn alle Datenpunkte in der richtigen Reihenfolge angeordnet wurden. Wenn es zwei Mittelpunkte gibt (bei einer geraden Anzahl von Datenpunkten), nehmen Sie den Mittelwert dieser beiden Zahlen. Wie hoch ist beispielsweise der Preis des Laptop-Modells, das Samsung-Laptops in zwei gleich große Gruppen unterteilt: High-End-Modelle und Low-End-Modelle?\n",
        "\n",
        "389 | 400 | 500 | 780 | 800 | 1000 | 1100 | 1200 | 1230"
      ]
    },
    {
      "cell_type": "markdown",
      "metadata": {
        "id": "JkgsYVc_vxe0"
      },
      "source": [
        "### The **mode** is the most common number that appears in your set of data. To find the mode count how often each number appears and the number that appears the most times is the mode."
      ]
    },
    {
      "cell_type": "markdown",
      "metadata": {
        "id": "Ty02JbX7vxe0"
      },
      "source": [
        "\n",
        "> Der Modus ist der Wert, der im Datensatz am häufigsten vorkommt. Welches Laptop-Modell wurde beispielsweise dieses Jahr am häufigsten verkauft?"
      ]
    },
    {
      "cell_type": "markdown",
      "metadata": {
        "id": "GJb_NS6qvxe1"
      },
      "source": [
        "## Maße der Variation (Spanne, Varianz, Standardabweichung)\n",
        "\n",
        "Der Bereich misst den Unterschied zwischen den niedrigsten und höchsten Datenpunktwerten. Wie groß ist beispielsweise die Preisspanne für Samsung-Laptops im Geschäft?\n",
        "\n",
        "1230 - 389 = 841\n",
        "Die Parameter Varianz und Standardabweichung zeigen die „Streuung“ der Daten, indem sie die Differenz zwischen dem beobachteten Ergebnis und dem Mittelwert messen.\n",
        "\n",
        "Die **Varianz** wird berechnet, indem der Mittelwert von jedem Datenpunkt abgezogen, dieser Wert quadriert und dann die Summe aller dieser Werte durch die Anzahl der Datenpunkte dividiert wird. Wichtiger Hinweis : Wenn Sie mit einer Stichprobe und nicht mit einer Gesamtpopulation arbeiten , dividieren Sie durch die Anzahl der Stichproben minus eins (wenn Sie möchten, lesen Sie hier einen Artikel zu diesem Konzept )."
      ]
    },
    {
      "cell_type": "markdown",
      "metadata": {
        "id": "dwusZe3mvxe1"
      },
      "source": [
        "((389 - 822)² + (400 - 822)² + (500 - 822)² + (780 - 822)² + (800 - 822)² + (1000 - 822)² + (1100 - 822)² + (1200 - 822)² + (1230 - 822)²) / (9-1) ≈ 111227"
      ]
    },
    {
      "cell_type": "markdown",
      "metadata": {},
      "source": [
        "***Wenn du den Code mit einer Stichprobe verwendest, liefert er die richtige Varianz und Standardabweichung. Wenn du die vollständige Population hättest, würde der Nenner von (len(data) - 1) auf len(data) geändert werden.\n",
        " NUR BEI EINER  Stichprobe: -1 BEI genauen Daten nicht***"
      ]
    },
    {
      "cell_type": "markdown",
      "metadata": {
        "id": "3K_M4GbWvxe2"
      },
      "source": [
        "Die Standardabweichung ist dann die Quadratwurzel der Varianz, wodurch der Wert wieder in die ursprünglichen Einheiten umgerechnet wird.\n",
        "\n",
        "√111227 ≈ 333"
      ]
    },
    {
      "cell_type": "markdown",
      "metadata": {
        "id": "fhh3vH4zvxe2"
      },
      "source": [
        "## ERLÄUTERUNG DER BEGRIFFE: https://datatab.de/tutorial/standardabweichung-varianz-spannweite"
      ]
    },
    {
      "cell_type": "markdown",
      "metadata": {
        "id": "k6REge6avxe2"
      },
      "source": [
        "Inferenzstatistik\n",
        "Inferenzstatistiken entnehmen einer Population zufällige Datenstichproben und suchen nach Mustern und Erkenntnissen, um diese Population zu beschreiben und daraus Rückschlüsse zu ziehen. Um die Konzepte der Inferenzstatistiken zu verstehen, müssen Sie mit den folgenden Begriffen vertraut sein:\n",
        "\n",
        "## **Konfidenzintervall**\n",
        "\n",
        "Ein Konfidenzintervall ist ein Wertebereich, in dem wir ziemlich sicher sind, dass unser Wert liegt. Das Konfidenzniveau ist eine prozentuale Schätzung dafür, wie oft wir erwarten, dass unser Stichprobenwert innerhalb des Konfidenzintervalls liegt.\n",
        "\n",
        "Statistiker und andere Analytiker verwenden Konfidenzintervalle, um die statistische Bedeutung ihrer Schätzungen, Schlussfolgerungen oder Vorhersagen zu verstehen. Normalerweise verwenden wir ein Konfidenzniveau von 95 % oder 99 %: Wir berechnen das Intervall, innerhalb dessen wir bei wiederholter Stichprobennahme derselben Population den Wert in 95 % oder 99 % der Fälle finden würden.\n",
        "\n",
        "Das Konfidenzniveau wird als Prozentsatz ausgedrückt, während das Konfidenzintervall ein Wertebereich ist."
      ]
    },
    {
      "cell_type": "markdown",
      "metadata": {
        "id": "w7CNF_6Avxe2"
      },
      "source": [
        "https://www.mathsisfun.com/data/confidence-interval-calculator.html"
      ]
    },
    {
      "cell_type": "markdown",
      "metadata": {
        "id": "bbwuuthSvxe3"
      },
      "source": [
        "## Übung 1\n",
        "\n",
        "Der Datensatz enthält 5 Zahlen: (8, 12, 16, 24, 4).\n",
        "\n",
        "Was ist das Mittel ?\n",
        "Wie hoch ist die Summe der Abweichungen der einzelnen Datenpunkte von ihrem Mittelwert ?\n",
        "Was ist die Standardabweichung ?"
      ]
    },
    {
      "cell_type": "code",
      "execution_count": 70,
      "metadata": {
        "id": "Gg712rF-vxe3",
        "outputId": "02f84a49-b921-4470-a2f5-ee620ac2daf5"
      },
      "outputs": [
        {
          "name": "stdout",
          "output_type": "stream",
          "text": [
            "[8, 12, 16, 24, 4]\n",
            "Mittelwert lautet: 12.8\n",
            "47.36\n"
          ]
        }
      ],
      "source": [
        "dataset1 = [8, 12, 16, 24, 4]\n",
        "print(dataset1)\n",
        "\n",
        "mittlewert1 = sum(dataset1)/len(dataset1)   #Die Summer der Zahlen durch die Anzahl der Werte in der Liste\n",
        "print(\"Mittelwert lautet:\", mittlewert1)\n",
        "\n",
        "#for eachnumber in dataset1:             #standartabwweichung?\n",
        "    #print (\"Die Abweichung der Zahl zum Mittelwert\", eachnumber, \"beträgt\", eachnumber-mittlewert1)\n",
        "\n",
        "variance1 = sum((eachnumber-mittlewert1)**2 for eachnumber in dataset1) / (len(dataset1))  #Varianz\n",
        "print(variance1)"
      ]
    },
    {
      "cell_type": "code",
      "execution_count": 71,
      "metadata": {
        "id": "Qm0j0upCvxe5",
        "outputId": "df4299b3-d9f9-4622-947a-6d43f1c6c9d1"
      },
      "outputs": [
        {
          "name": "stdout",
          "output_type": "stream",
          "text": [
            "4.972\n"
          ]
        }
      ],
      "source": [
        "data = [34.4, 36.4, 37.5, 35.5, 31.3, 36.7]\n",
        "mean = sum(data) / len(data)\n",
        "variance2 = sum((x - mean) ** 2 for x in data) / (len(data) - 1)\n",
        "print(variance2) # 4.14333.."
      ]
    },
    {
      "cell_type": "markdown",
      "metadata": {
        "id": "tUMglnvWvxe6"
      },
      "source": [
        "## Aufgabe 1 -Alle Lösungen kompakt"
      ]
    },
    {
      "cell_type": "code",
      "execution_count": null,
      "metadata": {
        "id": "p-EMIRRUvxe6",
        "outputId": "37c50bba-9424-4495-d7fe-7e23f94ad25d"
      },
      "outputs": [
        {
          "name": "stdout",
          "output_type": "stream",
          "text": [
            "59.2\n",
            "Die Standardabweichung der Zahlen beträgt 7.694153624668538\n"
          ]
        }
      ],
      "source": [
        "data = [8, 12, 16, 24, 4]\n",
        "mean = sum(data) / len(data)\n",
        "variance2 = sum((x - mean) ** 2 for x in data) / (len(data) - 1) #minus e1 rein oder raus- Das bezieht sich auf die Stichprobe\n",
        "print(variance2) # 4.14333..\n",
        "standard1 = variance2**0.5  #Die Standardabweichung ist dann die Quadratwurzel der Varianz\n",
        "print( \"Die Standardabweichung der Zahlen beträgt\", standard1)\n",
        "\n",
        "# Gute Erklärung der beiden Werte; https://datatab.de/tutorial/standardabweichung-varianz-spannweite"
      ]
    },
    {
      "cell_type": "markdown",
      "metadata": {
        "id": "vel4Gm9rvxe6"
      },
      "source": [
        "## Exercise 2\n",
        "\n",
        "If some outliers are introduced to the dataset from exercise 1, what will happen to the Standard Deviation? Will it increase, decrease or remain the same?"
      ]
    },
    {
      "cell_type": "markdown",
      "metadata": {
        "id": "bbhZpN3Evxe7"
      },
      "source": [
        "First Idea: I woulds say if there would be more outliner the Standard Deviation would increase"
      ]
    },
    {
      "cell_type": "code",
      "execution_count": 80,
      "metadata": {
        "id": "kjyPXyqjvxe7",
        "outputId": "59c76096-d5b4-4dc8-f337-0358f7f56eea"
      },
      "outputs": [
        {
          "name": "stdout",
          "output_type": "stream",
          "text": [
            "832.359375\n",
            "Die Standardabweichung der Zahlen beträgt 28.850639074377536\n"
          ]
        }
      ],
      "source": [
        "# teste mitOutliner\n",
        "#\n",
        "data = [5,8, 12, 16, 24, 4,90,58]\n",
        "mean = sum(data) / len(data)\n",
        "variance2 = sum((x - mean) ** 2 for x in data) / (len(data))\n",
        "print(variance2) # 4.14333..\n",
        "standard1 = variance2**0.5  #Die Standardabweichung ist dann die Quadratwurzel der Varianz\n",
        "print( \"Die Standardabweichung der Zahlen beträgt\", standard1)"
      ]
    },
    {
      "cell_type": "code",
      "execution_count": 81,
      "metadata": {
        "id": "B2fteiV7vxe7",
        "outputId": "4f65a307-5229-4c26-c9bd-a3c531c17728"
      },
      "outputs": [
        {
          "name": "stdout",
          "output_type": "stream",
          "text": [
            "3.0\n",
            "9\n"
          ]
        }
      ],
      "source": [
        "irgend=9\n",
        "print (irgend ** 0.5)\n",
        "\n",
        "print(irgend)"
      ]
    },
    {
      "cell_type": "markdown",
      "metadata": {
        "id": "NkmVgNmmvxe7"
      },
      "source": []
    },
    {
      "cell_type": "markdown",
      "metadata": {
        "id": "t7pofkVovxe8"
      },
      "source": [
        "## Quadratwurzeln mit Math"
      ]
    },
    {
      "cell_type": "code",
      "execution_count": 82,
      "metadata": {
        "id": "4bKZQddXvxe8",
        "outputId": "437d308a-1098-4fc4-8b0e-d53a06918616"
      },
      "outputs": [
        {
          "name": "stdout",
          "output_type": "stream",
          "text": [
            "3.0\n",
            "5.0\n",
            "4.0\n",
            "10.535653752852738\n"
          ]
        }
      ],
      "source": [
        "# Import math Library # Quadratwurzeln ziehen\n",
        "import math\n",
        "\n",
        "# Quadratwurzel ziehen\n",
        "\n",
        "# Return the square root of different numbers\n",
        "print (math.sqrt(9))\n",
        "print (math.sqrt(25))\n",
        "print (math.sqrt(16))\n",
        "print (math.sqrt(111))"
      ]
    },
    {
      "cell_type": "markdown",
      "metadata": {
        "id": "GYupyodNvxe8"
      },
      "source": [
        "\n",
        "## Übung 3 (kein Numpy)\n",
        "\n",
        "Angenommen, die folgende positiv schiefe Verteilung hat einen Median von 30. Welche der folgenden Aussagen ist wahr?\n",
        "\n",
        "\n",
        "\n",
        "A) Der Mittelwert ist größer als 30. > True\n",
        "B) Der Mittelwert ist kleiner als 30. >False\n",
        "C) Der Modus ist größer als 30.< False>\n",
        "D) Der Modus ist kleiner als 30. > True\n",
        "E) Sowohl A als auch D. > True\n",
        "F) Sowohl B als auch C. > Beide sind False (also True?)\n",
        "\n"
      ]
    },
    {
      "cell_type": "markdown",
      "metadata": {
        "id": "8n1nngmXvxe8"
      },
      "source": []
    },
    {
      "cell_type": "markdown",
      "metadata": {
        "id": "yLqtUbrlvxe8"
      },
      "source": [
        "## Übung 4 - Komilitonen fragen\n",
        "\n",
        "Was könnte ein möglicher Medianwert für die folgende Datenverteilung sein?"
      ]
    },
    {
      "cell_type": "markdown",
      "metadata": {
        "id": "3FFnA-hXvxe8"
      },
      "source": [
        "Median could be \"13\"\n",
        "But when i start at 0 its \"20\"\n",
        "\n",
        "Frage wo starte man den Medianwert zu berechen?"
      ]
    },
    {
      "cell_type": "markdown",
      "metadata": {
        "id": "1Fe0TQaHvxe9"
      },
      "source": [
        "Gehen Sie davon aus, dass die Daten wie folgt verteilt sind, und berechnen Sie den Median mithilfe des Codes:"
      ]
    },
    {
      "cell_type": "code",
      "execution_count": 83,
      "metadata": {
        "id": "K_v2jzTXvxe9",
        "outputId": "cda4fe29-7507-4a48-a9d6-5d918ee5455e"
      },
      "outputs": [
        {
          "name": "stdout",
          "output_type": "stream",
          "text": [
            "11.222222222222221\n",
            "Median von der Grafik: 31.53846153846154\n"
          ]
        }
      ],
      "source": [
        "m1 =[10, 10, 10, 10, 11, 11, 12, 13, 14 ]\n",
        "m2 =[15, 15, 15, 16, 16, 16, 16, 16, 17, 18, 19, 19]\n",
        "m3 =[20, 20, 20, 21, 21, 21, 21, 21, 22, 22, 22, 23, 23, 23, 24, 24, 24]\n",
        "m4 =[26, 26, 26, 26, 26, 26, 26, 27, 27, 27, 27, 29, 29, 29, 29, 29, 29, 29, 29, 29]\n",
        "m5 =[30, 30, 30, 30, 30, 31, 31, 32, 32, 33, 33, 34, 34]\n",
        "m6 =[35, 35, 35, 37, 37, 37, 37, 39, 39, 39]\n",
        "m7 =[40, 40, 43, 43, 44, 44]\n",
        "m8 =[46, 46, 46, 47, 49]\n",
        "m9 =[52, 53, 54]\n",
        "\n",
        "print(sum(m1)/len(m1))\n",
        "\n",
        "print(\"Median von der Grafik:\",sum(m5)/len(m5))"
      ]
    },
    {
      "cell_type": "markdown",
      "metadata": {
        "id": "8rGGSsiWvxe9"
      },
      "source": [
        "## Übung 5"
      ]
    },
    {
      "cell_type": "markdown",
      "metadata": {
        "id": "y6QBRE4Yvxe9"
      },
      "source": [
        "## Positively skewed distribution"
      ]
    },
    {
      "cell_type": "markdown",
      "metadata": {
        "id": "XcAozbUNvxe9"
      },
      "source": [
        "Eine Verteilung wird als positiv schief bezeichnet, wenn der rechte Rand des Histogramms länger ist als der linke. Die meisten Werte tendieren dazu, sich auf der linken Seite der X-Achse zu konzentrieren (also die kleineren Werte), während auf der rechten Seite der X-Achse (also die größeren Werte) zunehmend weniger Werte zu finden sind."
      ]
    },
    {
      "cell_type": "markdown",
      "metadata": {
        "id": "8QJ3rC7Wvxe-"
      },
      "source": [
        "## Links"
      ]
    },
    {
      "cell_type": "markdown",
      "metadata": {
        "id": "VtnVOhYSvxe-"
      },
      "source": [
        "https://statistikgrundlagen.de/ebook/chapter/grafiken-und-diagramme/\n",
        "https://www.abs.gov.au/statistics/understanding-statistics/statistical-terms-and-concepts/measures-shape#:~:text=When%20a%20histogram%20is%20constructed,example%20of%20a%20normal%20distribution."
      ]
    },
    {
      "cell_type": "markdown",
      "metadata": {
        "id": "LE0ikhtyvxe-"
      },
      "source": [
        "## Übung 6"
      ]
    },
    {
      "cell_type": "markdown",
      "metadata": {
        "id": "F1sA1gWxvxfE"
      },
      "source": [
        "Was ist die geeignete Mitte für die Grafik aus Übung 5\n",
        "Ist die Frage hier welches Mittel oder welche Berechnung eingesetzt werden sollen???"
      ]
    },
    {
      "cell_type": "markdown",
      "metadata": {
        "id": "pY6B_-6lvxfF"
      },
      "source": [
        "Die Wahl des „passendsten Maßes“ hängt also von der Verteilung und den Eigenschaften der Daten ab:\n",
        "\n",
        "Bei symmetrischen Verteilungen ist der Mittelwert oft sinnvoll.\n",
        "Bei schiefen Verteilungen oder wenn Ausreißer vorhanden sind, ist der Median möglicherweise geeigneter."
      ]
    },
    {
      "cell_type": "markdown",
      "metadata": {},
      "source": [
        "## Aufgabe 9"
      ]
    },
    {
      "cell_type": "markdown",
      "metadata": {},
      "source": [
        "The following chart shows hourly consultancy rates of 10 employees. Calculate the standard deviation of the rates from the 10 employees."
      ]
    },
    {
      "cell_type": "markdown",
      "metadata": {},
      "source": [
        "alculate the mean first then the varinaz and standart deviation\n",
        "#https://www.youtube.com/watch?v=oqUbfwIx6ZU"
      ]
    },
    {
      "cell_type": "markdown",
      "metadata": {},
      "source": [
        "## Numpy berechnet kein MODE!!!"
      ]
    },
    {
      "cell_type": "code",
      "execution_count": 84,
      "metadata": {},
      "outputs": [
        {
          "name": "stdout",
          "output_type": "stream",
          "text": [
            "[25 40 35 50]\n",
            "Multiplkation Arbeiter mal Gehalt [[ 75  80  35 200]]\n",
            "Der Mittelwert der Gehälter ist: 39.0\n"
          ]
        }
      ],
      "source": [
        "import numpy as np\n",
        "\n",
        "salary = np.array([25,40,35,50])\n",
        "np.sort(salary)\n",
        "print(salary)\n",
        "people = np.array([3,2,1,4])\n",
        "\n",
        "sallarytotal = np.array([salary * people])\n",
        "sallarytotal\n",
        "print(\"Multiplkation Arbeiter mal Gehalt\",sallarytotal)\n",
        "newmean = (75+80+35+200)/10\n",
        "print(\"Der Mittelwert der Gehälter ist:\", newmean)\n",
        "\n",
        "\n",
        "\n",
        "\n",
        "#calculate the mode:\n",
        "# print(np.mode(salary))\n",
        "#numpy cannot calculate mode -nicht die Aufgabe\n",
        "#from scipy import stats\n",
        "#print(stats.mode(salary))\n",
        "# calculate Varianz\n",
        "\n",
        "\n",
        "\n",
        "#salaryvarianz = \n",
        "\n",
        "#Standard Edviation\n"
      ]
    },
    {
      "cell_type": "markdown",
      "metadata": {},
      "source": [
        "## Meine Lösung von Aufgabe 9"
      ]
    },
    {
      "cell_type": "code",
      "execution_count": null,
      "metadata": {},
      "outputs": [
        {
          "name": "stdout",
          "output_type": "stream",
          "text": [
            "109.0\n",
            "109.0\n",
            "Die Standardabweichung der Zahlen beträgt 10.44030650891055\n"
          ]
        }
      ],
      "source": [
        "sallarys = [25, 25, 25, 40, 40,35,50,50,50,50]\n",
        "mean = sum(sallarys) / len(sallarys)\n",
        "variance2 = sum((x - mean) ** 2 for x in sallarys) / (len(sallarys) )\n",
        "print(variance2) # Varianz ohne numpy\n",
        "print(np.var(sallarys)) #Varianzformel von numpy\n",
        "\n",
        "standard1 = variance2**0.5  #Die Standardabweichung ist dann die Quadratwurzel der Varianz\n",
        "print( \"Die Standardabweichung der Zahlen beträgt\", standard1)\n",
        "\n",
        "\n"
      ]
    },
    {
      "cell_type": "markdown",
      "metadata": {},
      "source": [
        "## ONLIINE LÖSUNG nicht von mir"
      ]
    },
    {
      "cell_type": "code",
      "execution_count": null,
      "metadata": {},
      "outputs": [
        {
          "name": "stdout",
          "output_type": "stream",
          "text": [
            "109.0\n",
            "Standardabweichung: 10.44\n"
          ]
        }
      ],
      "source": [
        "# Lösung von Chatgbt mit numpy\n",
        "\n",
        "\n",
        "# Gegebene Daten: Stundensätze und Häufigkeit der Mitarbeiter\n",
        "raten = np.array([25, 40, 35, 50])\n",
        "häufigkeiten = np.array([3, 2, 1, 4])\n",
        "\n",
        "# Schritt 1: Mittelwert berechnen\n",
        "mittelwert = np.sum(raten * häufigkeiten) / np.sum(häufigkeiten)\n",
        "\n",
        "# Schritt 2: Quadratische Abweichungen berechnen\n",
        "quadratische_abweichungen = (raten - mittelwert) ** 2\n",
        "gewichtete_abweichungen = häufigkeiten * quadratische_abweichungen\n",
        "\n",
        "# Schritt 3: Varianz berechnen\n",
        "varianz = np.sum(gewichtete_abweichungen) / np.sum(häufigkeiten)\n",
        "print(varianz)\n",
        "\n",
        "# Schritt 4: Standardabweichung berechnen\n",
        "standardabweichung = np.sqrt(varianz)\n",
        "\n",
        "# Ausgabe der Standardabweichung\n",
        "print(f\"Standardabweichung: {standardabweichung:.2f}\")"
      ]
    }
  ],
  "metadata": {
    "colab": {
      "provenance": []
    },
    "kernelspec": {
      "display_name": "base",
      "language": "python",
      "name": "python3"
    },
    "language_info": {
      "codemirror_mode": {
        "name": "ipython",
        "version": 3
      },
      "file_extension": ".py",
      "mimetype": "text/x-python",
      "name": "python",
      "nbconvert_exporter": "python",
      "pygments_lexer": "ipython3",
      "version": "3.12.7"
    }
  },
  "nbformat": 4,
  "nbformat_minor": 0
}
